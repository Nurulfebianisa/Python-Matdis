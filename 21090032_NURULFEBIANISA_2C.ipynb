{
 "cells": [
  {
   "cell_type": "code",
   "execution_count": 1,
   "id": "db46e4f3",
   "metadata": {},
   "outputs": [
    {
     "name": "stdout",
     "output_type": "stream",
     "text": [
      "Mahasiswa diruangan ini gemar shopping\n"
     ]
    }
   ],
   "source": [
    "#Nama  : Nurul Febi Anisa\n",
    "#NIM   : 21090032\n",
    "#Kelas : 2 C\n",
    "#Jawaban No 1\n",
    "#A\n",
    "p = \"Mahasiswa diruangan ini gemar shopping\"\n",
    "q = \"Mahasiswa diruangan ini gemar makan\"\n",
    "notasi = p or q\n",
    "print(notasi)\n"
   ]
  },
  {
   "cell_type": "code",
   "execution_count": 2,
   "id": "7dedd55f",
   "metadata": {},
   "outputs": [
    {
     "name": "stdout",
     "output_type": "stream",
     "text": [
      "====NOT====\n",
      "JIka saya bangun pagi maka saya akan tidak terlambat kuliah = False\n",
      "-------------- NOT\n",
      "JIka saya  bangun pagi dan hanya jika saya akan tidak terlambat kuliah = True\n"
     ]
    }
   ],
   "source": [
    "#Jawaban no 1\n",
    "#B\n",
    "print('====NOT====')\n",
    "a = False\n",
    "c = not a\n",
    "print('JIka saya bangun pagi maka saya akan tidak terlambat kuliah =',a)\n",
    "print('-------------- NOT')\n",
    "print('JIka saya  bangun pagi dan hanya jika saya akan tidak terlambat kuliah =',c)"
   ]
  },
  {
   "cell_type": "code",
   "execution_count": 3,
   "id": "7d8bea01",
   "metadata": {},
   "outputs": [
    {
     "name": "stdout",
     "output_type": "stream",
     "text": [
      "Orang tua kita terdiri dari ibu\n"
     ]
    }
   ],
   "source": [
    "#Jawaban No 1\n",
    "#C\n",
    "a = \"Orang tua kita terdiri dari ayah\"\n",
    "b = \"Orang tua kita terdiri dari ibu\"\n",
    "notasi = a and b\n",
    "print(notasi)\n"
   ]
  },
  {
   "cell_type": "code",
   "execution_count": 4,
   "id": "b1b32983",
   "metadata": {},
   "outputs": [
    {
     "name": "stdout",
     "output_type": "stream",
     "text": [
      "====NOT====\n",
      "Tidak benar bahwa dia belajar Algoritma atau tidak belajar matematika = False\n",
      "-------------- NOT\n",
      "Tidak benar bahwa dia belajar Algoritma tetapi tidak belajar matematika  = True\n"
     ]
    }
   ],
   "source": [
    "#Jawaban no 1\n",
    "#D\n",
    "print('====NOT====')\n",
    "a = False\n",
    "c = not a\n",
    "print('Tidak benar bahwa dia belajar Algoritma atau tidak belajar matematika =',a)\n",
    "print('-------------- NOT')\n",
    "print('Tidak benar bahwa dia belajar Algoritma tetapi tidak belajar matematika  =',c)"
   ]
  },
  {
   "cell_type": "code",
   "execution_count": 5,
   "id": "fc797455",
   "metadata": {},
   "outputs": [
    {
     "name": "stdout",
     "output_type": "stream",
     "text": [
      "<class 'set'>\n",
      "<class 'tuple'>\n",
      "<class 'list'>\n",
      "{-25, -24, -23, -22, -21, -20, -19, -18, -17, -16, -15, -14, -13, -12, -11, -1, -9, -8, -7, -6, -5, -4, -3, -2, -10}\n",
      "(-1, -2, -3, -4, -5, -6, -7, -8, -9, -10, -11, -12, -13, -14, -15, -16, -17, -18, -19, -20, -21, -22, -23, -24, -25)\n",
      "[-1, -2, -3, -4, -5, -6, -7, -8, -9, -10, -11, -12, -13, -14, -15, -16, -17, -18, -19, -20, -21, -22, -23, -24, -25]\n",
      "\n",
      "\n"
     ]
    }
   ],
   "source": [
    "#Jawaban No 2\n",
    "#A\n",
    "bilangan1 = {-1,-2,-3,-4,-5,-6,-7,-8,-9,-10,-11,-12,-13,-14,-15,-16,-17,-18,-19,-20,-21,-22,-23,-24,-25}\n",
    "bilangan2 = (-1,-2,-3,-4,-5,-6,-7,-8,-9,-10,-11,-12,-13,-14,-15,-16,-17,-18,-19,-20,-21,-22,-23,-24,-25)\n",
    "bilangan3 = [-1,-2,-3,-4,-5,-6,-7,-8,-9,-10,-11,-12,-13,-14,-15,-16,-17,-18,-19,-20,-21,-22,-23,-24,-25]\n",
    "print(type(bilangan1))\n",
    "print(type(bilangan2))\n",
    "print(type(bilangan3))\n",
    "print(bilangan1)\n",
    "print(bilangan2)\n",
    "print(bilangan3)\n",
    "\n",
    "print(\"\\n\")"
   ]
  },
  {
   "cell_type": "code",
   "execution_count": 6,
   "id": "39b8f599",
   "metadata": {},
   "outputs": [
    {
     "name": "stdout",
     "output_type": "stream",
     "text": [
      "<class 'list'>\n",
      "<class 'tuple'>\n",
      "<class 'set'>\n"
     ]
    }
   ],
   "source": [
    "#Jawaban no 2\n",
    "#B\n",
    "NamaKampus1 = [\"ITB\",\"UGM\",\"UI\",\"PHB\",\"UNSOED\",\"UNDIP\",\"UPB\",\"UNAIR\",\"UPS\",\"IPB\",\"Universitas Trisakti\",\"UBINUS\",\"UNiversitas Trisakti\",\"Universitas Telkom\",\"Universitas Jambi\"] # data list\n",
    "NamaKampus2= (\"ITB\",\"UGM\",\"UI\",\"PHB\",\"UNSOED\",\"UNDIP\",\"UPB\",\"UNAIR\",\"UPS\",\"IPB\",\"Universitas Trisakti\",\"UBINUS\",\"UNiversitas Trisakti\",\"Universitas Telkom\",\"Universitas Jambi\") # data tuple\n",
    "NamaKampus3 = {\"ITB\",\"UGM\",\"UI\",\"PHB\",\"UNSOED\",\"UNDIP\",\"UPB\",\"UNAIR\",\"UPS\",\"IPB\",\"Universitas Trisakti\",\"UBINUS\",\"UNiversitas Trisakti\",\"Universitas Telkom\",\"Universitas Jambi\"}  # data set\n",
    "print(type(NamaKampus1))\n",
    "print(type(NamaKampus2))\n",
    "print(type(NamaKampus3))\n"
   ]
  },
  {
   "cell_type": "code",
   "execution_count": 7,
   "id": "3cd8f24b",
   "metadata": {},
   "outputs": [
    {
     "name": "stdout",
     "output_type": "stream",
     "text": [
      "<class 'set'>\n",
      "<class 'tuple'>\n",
      "<class 'list'>\n",
      "{'Python', 'C#', 'JavaScript', 'SQL', 'C', 'C++', 'CSS', 'HTML', 'Java', 'KOTLIN', 'PHP'}\n",
      "('Python', 'Java', 'C', 'PHP', 'CSS', 'C++', 'JavaScript', 'C#', 'SQL', 'HTML', 'KOTLIN')\n",
      "['Python', 'Java', 'C', 'PHP', 'CSS', 'C++', 'JavaScript', 'C#', 'SQL', 'HTML', 'KOTLIN']\n",
      "\n",
      "\n"
     ]
    }
   ],
   "source": [
    "#Jawaban No 2\n",
    "#C\n",
    "fungsi1 = {\"Python\",\"Java\",\"C\",\"PHP\",\"CSS\",\"C++\",\"JavaScript\",\"C#\",\"SQL\",\"HTML\",\"KOTLIN\"}\n",
    "fungsi2 = (\"Python\",\"Java\",\"C\",\"PHP\",\"CSS\",\"C++\",\"JavaScript\",\"C#\",\"SQL\",\"HTML\",\"KOTLIN\")\n",
    "fungsi3 = [\"Python\",\"Java\",\"C\",\"PHP\",\"CSS\",\"C++\",\"JavaScript\",\"C#\",\"SQL\",\"HTML\",\"KOTLIN\"]\n",
    "print(type(fungsi1))\n",
    "print(type(fungsi2))\n",
    "print(type(fungsi3))\n",
    "print(fungsi1)\n",
    "print(fungsi2)\n",
    "print(fungsi3)\n",
    "\n",
    "print(\"\\n\")"
   ]
  },
  {
   "cell_type": "code",
   "execution_count": 8,
   "id": "1ea72d87",
   "metadata": {},
   "outputs": [
    {
     "name": "stdout",
     "output_type": "stream",
     "text": [
      "<class 'list'>\n",
      "<class 'tuple'>\n",
      "<class 'set'>\n"
     ]
    }
   ],
   "source": [
    "#Jawaban no 2\n",
    "#D\n",
    "NamaTeman1 = [\"Ani\",\"Hasnita\",\"Kartika\",\"Dewi\",\"Lulu\",\"Rahma\",\"Cinta\",\"Susi\",\"Citra\",\"Eliza\",\"Lisa\",\"Zahra\",\"Bella\",\"Roro\",\"Widya\",\"Sinta\",\"Tyas\",\"Cici\",\"Sartika\",\"Andi\",\"Prabu\"] # data list\n",
    "NamaTeman2= (\"Ani\",\"Hasnita\",\"Kartika\",\"Dewi\",\"Lulu\",\"Rahma\",\"Cinta\",\"Susi\",\"Citra\",\"Eliza\",\"Lisa\",\"Zahra\",\"Bella\",\"Roro\",\"Widya\",\"Sinta\",\"Tyas\",\"Cici\",\"Sartika\",\"Andi\",\"Prabu\") # data tuple\n",
    "NamaTeman3 = {\"Ani\",\"Hasnita\",\"Kartika\",\"Dewi\",\"Lulu\",\"Rahma\",\"Cinta\",\"Susi\",\"Citra\",\"Eliza\",\"Lisa\",\"Zahra\",\"Bella\",\"Roro\",\"Widya\",\"Sinta\",\"Tyas\",\"Cici\",\"Sartika\",\"Andi\",\"Prabu\"}  # data set\n",
    "print(type(NamaTeman1))\n",
    "print(type(NamaTeman2))\n",
    "print(type(NamaTeman3))\n"
   ]
  },
  {
   "cell_type": "code",
   "execution_count": 9,
   "id": "9afb512b",
   "metadata": {},
   "outputs": [
    {
     "name": "stdout",
     "output_type": "stream",
     "text": [
      "<class 'set'>\n",
      "<class 'tuple'>\n",
      "<class 'list'>\n",
      "{'Buruh', 'Nahkoda', 'Pilot', 'Guru', 'Dosen', 'Polisi', 'Artis', 'Dokter', 'Nelayan'}\n",
      "('Buruh', 'Pilot', 'Dokter', 'Nahkoda', 'Polisi', 'Guru', 'Dosen', 'Artis', 'Dosen', 'Nelayan')\n",
      "['Buruh', 'Pilot', 'Dokter', 'Nahkoda', 'Polisi', 'Guru', 'Dosen', 'Artis', 'Dosen', 'Nelayan']\n"
     ]
    }
   ],
   "source": [
    "#Jawaban No 2\n",
    "#E\n",
    "pekerjaan1 = {\"Buruh\",\"Pilot\",\"Dokter\",\"Nahkoda\",\"Polisi\",\"Guru\",\"Dosen\",\"Artis\",\"Dosen\",\"Nelayan\"}\n",
    "pekerjaan2 = (\"Buruh\",\"Pilot\",\"Dokter\",\"Nahkoda\",\"Polisi\",\"Guru\",\"Dosen\",\"Artis\",\"Dosen\",\"Nelayan\")\n",
    "pekerjaan3 = [\"Buruh\",\"Pilot\",\"Dokter\",\"Nahkoda\",\"Polisi\",\"Guru\",\"Dosen\",\"Artis\",\"Dosen\",\"Nelayan\"]\n",
    "print(type(pekerjaan1))\n",
    "print(type(pekerjaan2))\n",
    "print(type(pekerjaan3))\n",
    "print(pekerjaan1)\n",
    "print(pekerjaan2)\n",
    "print(pekerjaan3)"
   ]
  },
  {
   "cell_type": "code",
   "execution_count": 10,
   "id": "ba4046d5",
   "metadata": {},
   "outputs": [
    {
     "name": "stdout",
     "output_type": "stream",
     "text": [
      "<class 'list'>\n",
      "<class 'tuple'>\n",
      "<class 'set'>\n"
     ]
    }
   ],
   "source": [
    "#Jawaban no 2\n",
    "#F\n",
    "NamaKampus1 = [\"ITB\",\"UGM\",\"UI\",\"PHB\",\"UNSOED\",\"UNDIP\",\"UPB\",\"UNAIR\",\"UPS\",\"IPB\",\"Universitas Trisakti\",\"UBINUS\",\"UNiversitas Trisakti\",\"Universitas Telkom\",\"Universitas Jambi\",\"Universitas Bengkulu\",\"Universitas Sam Ratulangi\",\"Universitas Pasundan\",\"Universitas Mulawarman\",\"Universitas Bung Hatta\"] # data list\n",
    "NamaKampus2= (\"ITB\",\"UGM\",\"UI\",\"PHB\",\"UNSOED\",\"UNDIP\",\"UPB\",\"UNAIR\",\"UPS\",\"IPB\",\"Universitas Trisakti\",\"UBINUS\",\"UNiversitas Trisakti\",\"Universitas Telkom\",\"Universitas Jambi\",\"Universitas Bengkulu\",\"Universitas Sam Ratulangi\",\"Universitas Pasundan\",\"Universitas Mulawarman\",\"Universitas Bung Hatta\") # data tuple\n",
    "NamaKampus3 = {\"ITB\",\"UGM\",\"UI\",\"PHB\",\"UNSOED\",\"UNDIP\",\"UPB\",\"UNAIR\",\"UPS\",\"IPB\",\"Universitas Trisakti\",\"UBINUS\",\"UNiversitas Trisakti\",\"Universitas Telkom\",\"Universitas Jambi\",\"Universitas Bengkulu\",\"Universitas Sam Ratulangi\",\"Universitas Pasundan\",\"Universitas Mulawarman\",\"Universitas Bung Hatta\"}  # data set\n",
    "print(type(NamaKampus1))\n",
    "print(type(NamaKampus2))\n",
    "print(type(NamaKampus3))\n"
   ]
  },
  {
   "cell_type": "code",
   "execution_count": 11,
   "id": "d3a2286c",
   "metadata": {},
   "outputs": [
    {
     "name": "stdout",
     "output_type": "stream",
     "text": [
      "Masukkan nilai Matematika : 85\n",
      "Predikat A\n",
      "LULUS\n",
      "\n",
      "\n"
     ]
    }
   ],
   "source": [
    "#Jawaban No 3\n",
    "#A\n",
    "nilaiMTK = int(input(\"Masukkan nilai Matematika : \"))\n",
    "nilaiMTK = int(nilaiMTK)\n",
    "if nilaiMTK <49 :\n",
    "    print(\"Predikat E\")\n",
    "    print(\"TIDAK LULUS (DICUTIKAN)\")\n",
    "elif nilaiMTK >=59 and nilaiMTK <0 :\n",
    "    print(\"Predikat D\")\n",
    "    print(\"TIDAK LULUS\")\n",
    "elif nilaiMTK >=60 and nilaiMTK <74 :\n",
    "    print(\"Predikat C\")\n",
    "    print(\"LULUS\")\n",
    "elif nilaiMTK >=75 and nilaiMTK <80 :\n",
    "    print(\"Predikat B\")\n",
    "    print(\"LULUS\")\n",
    "elif nilaiMTK  >=81 and nilaiMTK <100:\n",
    "    print(\"Predikat A\")\n",
    "    print(\"LULUS\")\n",
    "    \n",
    "print(\"\\n\")"
   ]
  },
  {
   "cell_type": "code",
   "execution_count": 12,
   "id": "765db6fe",
   "metadata": {},
   "outputs": [
    {
     "name": "stdout",
     "output_type": "stream",
     "text": [
      "Masukkan Nilai: 77\n",
      "Nilai B Dinyatakan Lulus\n"
     ]
    }
   ],
   "source": [
    "#Jawaban No 3\n",
    "#B\n",
    "nilai = int(input('Masukkan Nilai: '))\n",
    "if nilai >= 81:\n",
    "    print('Nilai A Dinyatakan Lulus')\n",
    "elif nilai >= 69:\n",
    "    print('Nilai B Dinyatakan Lulus')\n",
    "elif nilai >= 60:\n",
    "    print('Nilai C Dinyatakan Lulus')\n",
    "elif nilai >= 49:\n",
    "    print('Nilai D Dinyatakan tidak Lulus')\n",
    "    "
   ]
  },
  {
   "cell_type": "code",
   "execution_count": 13,
   "id": "1b8d1af7",
   "metadata": {},
   "outputs": [
    {
     "name": "stdout",
     "output_type": "stream",
     "text": [
      "Masukkan Kode Barang : 253\n",
      "Masukkan Harga Barang : 300000\n",
      "Masukkan Jumlah Barang : 2\n",
      "total bayar = Rp.  510000.0\n"
     ]
    }
   ],
   "source": [
    "#Jawaban no 3\n",
    "#C\n",
    "kodeBarang = input(\"Masukkan Kode Barang : \")\n",
    "hargaBarang = int(input(\"Masukkan Harga Barang : \"))\n",
    "jumlahBarang = int(input(\"Masukkan Jumlah Barang : \"))\n",
    "\n",
    "bayar = hargaBarang*jumlahBarang\n",
    "if bayar >=150000 :\n",
    "    diskon = bayar* (15/100)\n",
    "    totalBayar = bayar - diskon\n",
    "    print(\"total bayar = Rp. \",totalBayar)\n",
    "else :\n",
    "    print(\"anda tidak mendapatkan diskon\")\n",
    "    print(\"total bayar = Rp. \",bayar)\n",
    "\n"
   ]
  },
  {
   "cell_type": "code",
   "execution_count": 14,
   "id": "6e358128",
   "metadata": {},
   "outputs": [
    {
     "name": "stdout",
     "output_type": "stream",
     "text": [
      "PROGRAM PYTHON MENGHITUNG LUAS SEGITIGA\n",
      "\n",
      "Masukan Alas  : 7\n",
      "Masukan Tinggi: 7\n",
      "\n",
      "Luas Segitiga  = 24.50\n"
     ]
    }
   ],
   "source": [
    "#Jawaban no 3\n",
    "#D\n",
    "print(\"PROGRAM PYTHON MENGHITUNG LUAS SEGITIGA\")\n",
    "\n",
    "a = float(input(\"\\nMasukan Alas  : \"))\n",
    "t = float(input(\"Masukan Tinggi: \"))\n",
    "\n",
    "luas = 0.5*a*t\n",
    "\n",
    "print(\"\\nLuas Segitiga  = %0.2f\" % luas)"
   ]
  },
  {
   "cell_type": "code",
   "execution_count": 15,
   "id": "71d3f0f4",
   "metadata": {},
   "outputs": [
    {
     "name": "stdout",
     "output_type": "stream",
     "text": [
      "Masukkan NIK: 3379044602020007\n",
      "Binernya adalah 1100000000010011100100100001001011110000000010100111\n",
      "Masukkan NIK: 3776044508020005\n",
      "Hexanya adalah 0xd6a4adf8e7d25\n",
      "Masukkan NIK: 3376344542020009\n",
      "Oktalnya adalah 137754217104200651\n",
      "Masukkan NIK: 3376547502020001\n",
      "Binernya adalah 1011111111101111001110111010011011001101010110100001\n",
      "Masukkan NIK: 3377445020200029\n",
      "Hexanya adalah 0xbffc4b2ad6c5d\n"
     ]
    }
   ],
   "source": [
    "#Jawaban nomor 4\n",
    "#A\n",
    "#Desimal ke biner\n",
    "desimal = int(input('Masukkan NIK: '))\n",
    "biner = bin(desimal).replace(\"0b\",\"\")\n",
    "print(\"Binernya adalah\", biner)\n",
    "\n",
    "#Desimal ke oktal\n",
    "desimal = int(input('Masukkan NIK: '))\n",
    "hexa = hex(desimal).replace(\"0h\",\"\")\n",
    "print(\"Hexanya adalah\", hexa)\n",
    "\n",
    "#Desimal ke oktal\n",
    "desimal = int(input('Masukkan NIK: '))\n",
    "oktal = oct(desimal).replace(\"0o\",\"\")\n",
    "print(\"Oktalnya adalah\", oktal)\n",
    "\n",
    "#Desimal ke biner\n",
    "desimal = int(input('Masukkan NIK: '))\n",
    "biner = bin(desimal).replace(\"0b\",\"\")\n",
    "print(\"Binernya adalah\", biner)\n",
    "\n",
    "#Desimal ke hexa\n",
    "desimal = int(input('Masukkan NIK: '))\n",
    "hexa = hex(desimal).replace(\"0h\",\"\")\n",
    "print(\"Hexanya adalah\", hexa)\n",
    "\n"
   ]
  },
  {
   "cell_type": "code",
   "execution_count": 8,
   "id": "2f719c9d",
   "metadata": {},
   "outputs": [
    {
     "name": "stdout",
     "output_type": "stream",
     "text": [
      "NIM1 =  1111011 173 7b\n",
      "NIM2 =  1100010101 1425 315\n",
      "NIM3 =  1000100010 1042 222\n",
      "NIM4 =  1111101 175 7d\n",
      "NIM5 =  1100001111 1417 30f\n"
     ]
    }
   ],
   "source": [
    "#Jawaban no 4\n",
    "#B\n",
    "NIM1 = 21090032\n",
    "biner01 = bin(NIM1) .replace(\"0b\",\"\")\n",
    "oktal01 = oct(NIM1) .replace(\"0o\",\"\")\n",
    "hexa01 = hex(NIM1) .replace(\"0x\",\"\")\n",
    "print(\"NIM1 = \",biner01,oktal01,hexa01)\n",
    "\n",
    "NIM2 = 21090010\n",
    "biner02 = bin(NIM2) .replace(\"0b\",\"\")\n",
    "oktal02 = oct(NIM2) .replace(\"0o\",\"\")\n",
    "hexa02 = hex(NIM2) .replace(\"0x\",\"\")\n",
    "print(\"NIM2 = \",biner02,oktal02,hexa02)\n",
    "\n",
    "NIM3 = 21090040\n",
    "biner03 = bin(NIM3) .replace(\"0b\",\"\")\n",
    "oktal03 = oct(NIM3) .replace(\"0o\",\"\")\n",
    "hexa03 = hex(NIM3) .replace(\"0x\",\"\")\n",
    "print(\"NIM3 = \",biner03,oktal03,hexa03)\n",
    "\n",
    "NIM4 = 21090060\n",
    "biner04 = bin(NIM4) .replace(\"0b\",\"\")\n",
    "oktal04 = oct(NIM4) .replace(\"0o\",\"\")\n",
    "hexa04 = hex(NIM4) .replace(\"0x\",\"\")\n",
    "print(\"NIM4 = \",biner04,oktal04,hexa04)\n",
    "\n",
    "NIM5 =21090080\n",
    "biner05 = bin(NIM5) .replace(\"0b\",\"\")\n",
    "oktal05 = oct(NIM5) .replace(\"0o\",\"\")\n",
    "hexa05 = hex(NIM5) .replace(\"0x\",\"\")\n",
    "print(\"NIM5 = \",biner05,oktal05,hexa05)\n",
    "\n",
    "\n"
   ]
  },
  {
   "cell_type": "code",
   "execution_count": 9,
   "id": "2891f617",
   "metadata": {},
   "outputs": [
    {
     "name": "stdout",
     "output_type": "stream",
     "text": [
      "password1 =  1111011 173 7b\n",
      "password2 =  1100010101 1425 315\n",
      "password3 =  1000100010 1042 222\n",
      "password4 =  1111101 175 7d\n",
      "password5 =  1100001111 1417 30f\n",
      "password6 =  1000011110 1036 21e\n"
     ]
    }
   ],
   "source": [
    "#Jawaban no 4\n",
    "#C\n",
    "password1 = 123\n",
    "biner01 = bin(password1) .replace(\"0b\",\"\")\n",
    "oktal01 = oct(password1) .replace(\"0o\",\"\")\n",
    "hexa01 = hex(password1) .replace(\"0x\",\"\")\n",
    "print(\"password1 = \",biner01,oktal01,hexa01)\n",
    "\n",
    "password2 = 789\n",
    "biner02 = bin(password2) .replace(\"0b\",\"\")\n",
    "oktal02 = oct(password2) .replace(\"0o\",\"\")\n",
    "hexa02 = hex(password2) .replace(\"0x\",\"\")\n",
    "print(\"password2 = \",biner02,oktal02,hexa02)\n",
    "\n",
    "password3 = 546\n",
    "biner03 = bin(password3) .replace(\"0b\",\"\")\n",
    "oktal03 = oct(password3) .replace(\"0o\",\"\")\n",
    "hexa03 = hex(password3) .replace(\"0x\",\"\")\n",
    "print(\"password3 = \",biner03,oktal03,hexa03)\n",
    "\n",
    "password4 = 125\n",
    "biner04 = bin(password4) .replace(\"0b\",\"\")\n",
    "oktal04 = oct(password4) .replace(\"0o\",\"\")\n",
    "hexa04 = hex(password4) .replace(\"0x\",\"\")\n",
    "print(\"password4 = \",biner04,oktal04,hexa04)\n",
    "\n",
    "password5 = 783\n",
    "biner05 = bin(password5) .replace(\"0b\",\"\")\n",
    "oktal05 = oct(password5) .replace(\"0o\",\"\")\n",
    "hexa05 = hex(password5) .replace(\"0x\",\"\")\n",
    "print(\"password5 = \",biner05,oktal05,hexa05)\n",
    "\n",
    "password6 = 542\n",
    "biner06 = bin(password6) .replace(\"0b\",\"\")\n",
    "oktal06 = oct(password6) .replace(\"0o\",\"\")\n",
    "hexa06 = hex(password6) .replace(\"0x\",\"\")\n",
    "print(\"password6 = \",biner06,oktal06,hexa06)\n"
   ]
  },
  {
   "cell_type": "code",
   "execution_count": 11,
   "id": "460f06c1",
   "metadata": {},
   "outputs": [
    {
     "name": "stdout",
     "output_type": "stream",
     "text": [
      "noHP1 =  1111011 173 7b\n",
      "noHP2 =  1100010101 1425 315\n",
      "noHP3 =  1000100010 1042 222\n",
      "noHP4 =  1111101 175 7d\n",
      "noHP5 =  1100001111 1417 30f\n"
     ]
    }
   ],
   "source": [
    "#Jawaban no 4\n",
    "#D\n",
    "noHP1 = 81919008448\n",
    "biner01 = bin(noHP1) .replace(\"0b\",\"\")\n",
    "oktal01 = oct(noHP1) .replace(\"0o\",\"\")\n",
    "hexa01 = hex(noHP1) .replace(\"0x\",\"\")\n",
    "print(\"noHP1 = \",biner01,oktal01,hexa01)\n",
    "\n",
    "noHP2 = 81919008229\n",
    "biner02 = bin(noHP2) .replace(\"0b\",\"\")\n",
    "oktal02 = oct(noHP2) .replace(\"0o\",\"\")\n",
    "hexa02 = hex(noHP2) .replace(\"0x\",\"\")\n",
    "print(\"noHP2 = \",biner02,oktal02,hexa02)\n",
    "\n",
    "noHP3 = 81919008112\n",
    "biner03 = bin(noHP3) .replace(\"0b\",\"\")\n",
    "oktal03 = oct(noHP3) .replace(\"0o\",\"\")\n",
    "hexa03 = hex(noHP3) .replace(\"0x\",\"\")\n",
    "print(\"noHP3 = \",biner03,oktal03,hexa03)\n",
    "\n",
    "noHP4 = 81919008779\n",
    "biner04 = bin(noHP4) .replace(\"0b\",\"\")\n",
    "oktal04 = oct(noHP4) .replace(\"0o\",\"\")\n",
    "hexa04 = hex(noHP4) .replace(\"0x\",\"\")\n",
    "print(\"noHP4 = \",biner04,oktal04,hexa04)\n",
    "\n",
    "noHP5 = 81919008002\n",
    "biner05 = bin(noHP5) .replace(\"0b\",\"\")\n",
    "oktal05 = oct(noHP5) .replace(\"0o\",\"\")\n",
    "hexa05 = hex(noHP5) .replace(\"0x\",\"\")\n",
    "print(\"noHP5 = \",biner05,oktal05,hexa05)\n",
    "\n"
   ]
  },
  {
   "cell_type": "code",
   "execution_count": 12,
   "id": "cd18dcaf",
   "metadata": {},
   "outputs": [
    {
     "name": "stdout",
     "output_type": "stream",
     "text": [
      "Masukan Bilangan : 15\n",
      "15! = 1307674368000\n",
      "Masukan Batas Deret Bilangan Fibonacci : 15\n",
      "Deret Fibonacci\n",
      "0 1 1 2 3 5 8 13 21 34 55 89 144 233 377 "
     ]
    }
   ],
   "source": [
    "#Jawaban no 5\n",
    "#A\n",
    "def faktorial(a):\n",
    "   if a == 1:\n",
    "      return (a)\n",
    "   else:\n",
    "      return (a*faktorial(a-1))\n",
    "\n",
    "bil = int(input(\"Masukan Bilangan : \"))\n",
    "\n",
    "print(\"%d! = %d\" % (bil, faktorial(bil)))\n",
    "\n",
    "##Menentukan Bilangan Fibonacci dengan Fungsi Rekursif\n",
    "def fibonacci(n):\n",
    "   if n == 0 or n == 1:\n",
    "      return n\n",
    "   else:\n",
    "      return (fibonacci(n-1) + fibonacci(n-2))\n",
    "\n",
    "x = int(input(\"Masukan Batas Deret Bilangan Fibonacci : \"))\n",
    "print(\"Deret Fibonacci\")\n",
    "for i in range(x):\n",
    "   print(fibonacci(i),end=' ')\n"
   ]
  },
  {
   "cell_type": "code",
   "execution_count": 13,
   "id": "46ee0623",
   "metadata": {},
   "outputs": [
    {
     "name": "stdout",
     "output_type": "stream",
     "text": [
      "Masukan Bilangan : 10\n",
      "10! = 3628800\n",
      "Masukan Batas Deret Bilangan Fibonacci : 10\n",
      "Deret Fibonacci\n",
      "0 1 1 2 3 5 8 13 21 34 "
     ]
    }
   ],
   "source": [
    "#Jawaban no 5\n",
    "#B\n",
    "def faktorial(a):\n",
    "   if a == 1:\n",
    "      return (a)\n",
    "   else:\n",
    "      return (a*faktorial(a-1))\n",
    "\n",
    "bil = int(input(\"Masukan Bilangan : \"))\n",
    "\n",
    "print(\"%d! = %d\" % (bil, faktorial(bil)))\n",
    "\n",
    "##Menentukan Bilangan Fibonacci dengan Fungsi Rekursif\n",
    "def fibonacci(n):\n",
    "   if n == 0 or n == 1:\n",
    "      return n\n",
    "   else:\n",
    "      return (fibonacci(n-1) + fibonacci(n-2))\n",
    "\n",
    "x = int(input(\"Masukan Batas Deret Bilangan Fibonacci : \"))\n",
    "print(\"Deret Fibonacci\")\n",
    "for i in range(x):\n",
    "   print(fibonacci(i),end=' ')\n"
   ]
  },
  {
   "cell_type": "code",
   "execution_count": 14,
   "id": "d83d4fce",
   "metadata": {},
   "outputs": [
    {
     "name": "stdout",
     "output_type": "stream",
     "text": [
      "Masukan Bilangan : 12\n",
      "12! = 479001600\n",
      "Masukan Batas Deret Bilangan Fibonacci : 12\n",
      "Deret Fibonacci\n",
      "0 1 1 2 3 5 8 13 21 34 55 89 "
     ]
    }
   ],
   "source": [
    "#Jawaban no 5\n",
    "#C\n",
    "def faktorial(a):\n",
    "   if a == 1:\n",
    "      return (a)\n",
    "   else:\n",
    "      return (a*faktorial(a-1))\n",
    "\n",
    "bil = int(input(\"Masukan Bilangan : \"))\n",
    "\n",
    "print(\"%d! = %d\" % (bil, faktorial(bil)))\n",
    "\n",
    "##Menentukan Bilangan Fibonacci dengan Fungsi Rekursif\n",
    "def fibonacci(n):\n",
    "   if n == 0 or n == 1:\n",
    "      return n\n",
    "   else:\n",
    "      return (fibonacci(n-1) + fibonacci(n-2))\n",
    "\n",
    "x = int(input(\"Masukan Batas Deret Bilangan Fibonacci : \"))\n",
    "print(\"Deret Fibonacci\")\n",
    "for i in range(x):\n",
    "   print(fibonacci(i),end=' ')\n"
   ]
  },
  {
   "cell_type": "code",
   "execution_count": 15,
   "id": "4ce8b0b2",
   "metadata": {},
   "outputs": [
    {
     "name": "stdout",
     "output_type": "stream",
     "text": [
      "Masukan Bilangan : 21\n",
      "21! = 51090942171709440000\n",
      "Masukan Batas Deret Bilangan Fibonacci : 21\n",
      "Deret Fibonacci\n",
      "0 1 1 2 3 5 8 13 21 34 55 89 144 233 377 610 987 1597 2584 4181 6765 "
     ]
    }
   ],
   "source": [
    "#Jawaban no 5\n",
    "#D\n",
    "def faktorial(a):\n",
    "   if a == 1:\n",
    "      return (a)\n",
    "   else:\n",
    "      return (a*faktorial(a-1))\n",
    "\n",
    "bil = int(input(\"Masukan Bilangan : \"))\n",
    "\n",
    "print(\"%d! = %d\" % (bil, faktorial(bil)))\n",
    "\n",
    "##Menentukan Bilangan Fibonacci dengan Fungsi Rekursif\n",
    "def fibonacci(n):\n",
    "   if n == 0 or n == 1:\n",
    "      return n\n",
    "   else:\n",
    "      return (fibonacci(n-1) + fibonacci(n-2))\n",
    "\n",
    "x = int(input(\"Masukan Batas Deret Bilangan Fibonacci : \"))\n",
    "print(\"Deret Fibonacci\")\n",
    "for i in range(x):\n",
    "   print(fibonacci(i),end=' ')\n"
   ]
  },
  {
   "cell_type": "code",
   "execution_count": null,
   "id": "d6394509",
   "metadata": {},
   "outputs": [
    {
     "name": "stdout",
     "output_type": "stream",
     "text": [
      "Masukan Bilangan : 153\n",
      "153! = 200634390509568239477828874698911718566246149616161171934231099284840946025238092339613294062603588435530393145048663047173051913507711632216305667129554900620296603188543122491838966881134795135997316305640071571629943041039657861120000000000000000000000000000000000000\n",
      "Masukan Batas Deret Bilangan Fibonacci : 153\n",
      "Deret Fibonacci\n",
      "0 1 1 2 3 5 8 13 21 34 55 89 144 233 377 610 987 1597 2584 4181 6765 10946 17711 28657 46368 75025 121393 196418 317811 514229 832040 1346269 2178309 3524578 5702887 9227465 14930352 24157817 39088169 63245986 "
     ]
    }
   ],
   "source": [
    "#Jawaban no 5\n",
    "#D\n",
    "def faktorial(a):\n",
    "   if a == 1:\n",
    "      return (a)\n",
    "   else:\n",
    "      return (a*faktorial(a-1))\n",
    "\n",
    "bil = int(input(\"Masukan Bilangan : \"))\n",
    "\n",
    "print(\"%d! = %d\" % (bil, faktorial(bil)))\n",
    "\n",
    "##Menentukan Bilangan Fibonacci dengan Fungsi Rekursif\n",
    "def fibonacci(n):\n",
    "   if n == 0 or n == 1:\n",
    "      return n\n",
    "   else:\n",
    "      return (fibonacci(n-1) + fibonacci(n-2))\n",
    "\n",
    "x = int(input(\"Masukan Batas Deret Bilangan Fibonacci : \"))\n",
    "print(\"Deret Fibonacci\")\n",
    "for i in range(x):\n",
    "   print(fibonacci(i),end=' ')\n"
   ]
  }
 ],
 "metadata": {
  "kernelspec": {
   "display_name": "Python 3 (ipykernel)",
   "language": "python",
   "name": "python3"
  },
  "language_info": {
   "codemirror_mode": {
    "name": "ipython",
    "version": 3
   },
   "file_extension": ".py",
   "mimetype": "text/x-python",
   "name": "python",
   "nbconvert_exporter": "python",
   "pygments_lexer": "ipython3",
   "version": "3.9.7"
  }
 },
 "nbformat": 4,
 "nbformat_minor": 5
}
